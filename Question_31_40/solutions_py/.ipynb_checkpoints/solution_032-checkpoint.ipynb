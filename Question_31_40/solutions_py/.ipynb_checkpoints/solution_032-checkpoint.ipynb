{
 "cells": [
  {
   "cell_type": "code",
   "execution_count": 1,
   "metadata": {},
   "outputs": [],
   "source": [
    "import cv2\n",
    "import numpy as np\n",
    "import matplotlib.pyplot as plt\n",
    "%matplotlib inline"
   ]
  },
  {
   "cell_type": "code",
   "execution_count": 12,
   "metadata": {},
   "outputs": [],
   "source": [
    "def dft(img):\n",
    "    H, W, ch = img.shape\n",
    "    \n",
    "    G = np.zeros((H, W, ch), dtype=np.complex)\n",
    "    x = np.arange(H).repeat(W).reshape(H, -1)\n",
    "    y = np.tile(np.arange(W), (H, 1))\n",
    "    for c in range(ch):\n",
    "        for i in range(H):\n",
    "            for j in range(W):\n",
    "                G[i, j, c] = np.sum(img[..., c] * np.exp(-2j*np.pi*(i*x/H + j*y/W)))\n",
    "                # for x in range(H):\n",
    "                #     for y in range(W):\n",
    "                #         G[i, j, c] += img[x, y, c] * np.exp(-2j*np.pi*(i*x/H + j*y/W))\n",
    "    return G"
   ]
  },
  {
   "cell_type": "code",
   "execution_count": 21,
   "metadata": {},
   "outputs": [],
   "source": [
    "def idft(G):\n",
    "    H, W, ch = G.shape\n",
    "    \n",
    "    I = np.zeros((H, W, ch), dtype=np.complex)\n",
    "    x = np.arange(H).repeat(W).reshape(H, -1)\n",
    "    y = np.tile(np.arange(W), (H, 1))\n",
    "    for c in range(ch):\n",
    "        for i in range(H):\n",
    "            for j in range(W):\n",
    "                I[i, j, c] = np.abs(np.sum(G[..., c] * np.exp(2j*np.pi*(i*x/H + j*y/W))))\n",
    "    I = np.clip(I, 0, 255).astype(\"uint8\")\n",
    "    return I"
   ]
  },
  {
   "cell_type": "code",
   "execution_count": 24,
   "metadata": {},
   "outputs": [
    {
     "data": {
      "image/png": "[encoded data removed]",
      "text/plain": [
       "<Figure size 432x288 with 1 Axes>"
      ]
     },
     "metadata": {
      "needs_background": "light"
     },
     "output_type": "display_data"
    }
   ],
   "source": [
    "img = cv2.imread(\"../imori.jpg\")\n",
    "G = dft(img)\n",
    "ps = (np.abs(G) / np.abs(G).max() * 255).astype(\"uint8\")\n",
    "plt.imshow(cv2.cvtColor(ps, cv2.COLOR_BGR2RGB))\n",
    "plt.show()"
   ]
  },
  {
   "cell_type": "code",
   "execution_count": 22,
   "metadata": {},
   "outputs": [
    {
     "name": "stderr",
     "output_type": "stream",
     "text": [
      "<ipython-input-21-b50d35cf8473>:11: ComplexWarning: Casting complex values to real discards the imaginary part\n",
      "  I = np.clip(I, 0, 255).astype(\"uint8\")\n"
     ]
    }
   ],
   "source": [
    "I = idft(G)\n",
    "plt.imshow(cv2.cvtColor(I, cv2.COLOR_BGR2RGB))\n",
    "plt.show()"
   ]
  }
 ],
 "metadata": {
  "kernelspec": {
   "display_name": "Python 3",
   "language": "python",
   "name": "python3"
  },
  "language_info": {
   "codemirror_mode": {
    "name": "ipython",
    "version": 3
   },
   "file_extension": ".py",
   "mimetype": "text/x-python",
   "name": "python",
   "nbconvert_exporter": "python",
   "pygments_lexer": "ipython3",
   "version": "3.8.0"
  }
 },
 "nbformat": 4,
 "nbformat_minor": 4
}
