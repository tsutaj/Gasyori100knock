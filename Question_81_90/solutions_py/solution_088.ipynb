{
 "cells": [
  {
   "cell_type": "code",
   "execution_count": 2,
   "metadata": {},
   "outputs": [],
   "source": [
    "import cv2\n",
    "import numpy as np\n",
    "import matplotlib.pyplot as plt\n",
    "import glob\n",
    "import pathlib\n",
    "import statistics\n",
    "%matplotlib inline"
   ]
  },
  {
   "cell_type": "code",
   "execution_count": 3,
   "metadata": {},
   "outputs": [],
   "source": [
    "class ColorReduction:\n",
    "    def __call__(self, img):\n",
    "        if len(img.shape) == 3:\n",
    "            return self.apply_3(img)\n",
    "        if len(img.shape) == 2:\n",
    "            return self.apply_2(img)\n",
    "        return None\n",
    "        \n",
    "    # problem 84 の reference solution は、ここの処理間違ってそう\n",
    "    def reduction_onepixel(self, value):\n",
    "        if 0 <= value < 64:\n",
    "            return 32\n",
    "        elif 64 <= value < 128:\n",
    "            return 96\n",
    "        elif 128 <= value < 192:\n",
    "            return 160\n",
    "        elif 192 <= value < 256:\n",
    "            return 224\n",
    "        return -1\n",
    "    \n",
    "    def apply_3(self, img):\n",
    "        H, W, ch = img.shape\n",
    "        output_img = img.copy()\n",
    "        for i in range(H):\n",
    "            for j in range(W):\n",
    "                for c in range(ch):\n",
    "                    output_img[i, j, c] = self.reduction_onepixel(img[i, j, c])\n",
    "        return output_img\n",
    "    \n",
    "    def apply_2(self, img):\n",
    "        H, W = img.shape\n",
    "        output_img = img.copy()\n",
    "        for i in range(H):\n",
    "            for j in range(W):\n",
    "                output_img[i, j] = self.reduction_onepixel(img[i, j])\n",
    "        return output_img"
   ]
  },
  {
   "cell_type": "code",
   "execution_count": 26,
   "metadata": {},
   "outputs": [],
   "source": [
    "class KmeansImageRecognition:\n",
    "    def __init__(self, parse_func, class_list):\n",
    "        self.color_reduction = ColorReduction()\n",
    "        self.reduced_valuemap = {\n",
    "            32: 0,\n",
    "            96: 1,\n",
    "            160: 2,\n",
    "            224: 3\n",
    "        }\n",
    "        self.parse_func = parse_func\n",
    "        self.class_list = class_list\n",
    "        self.num_classes = len(class_list)\n",
    "         \n",
    "    def _get_images(self, test_path):\n",
    "        images, names = [], []\n",
    "        file_list = sorted(glob.glob(test_path))\n",
    "        for file in file_list:\n",
    "            images.append(cv2.imread(file))\n",
    "            names.append(file)\n",
    "        images = np.array(images)\n",
    "        names = np.array(names)\n",
    "        return images, names\n",
    "    \n",
    "    def _get_hist(self, img):\n",
    "        assert len(img.shape) == 3, \"invalid img dimension: expected: 3, got: {}\".format(img.shape)\n",
    "        H, W, ch = img.shape\n",
    "        \n",
    "        hist = np.zeros((12))\n",
    "        for i in range(H):\n",
    "            for j in range(W):\n",
    "                for c in range(ch):\n",
    "                    cls = 4*c + self.reduced_valuemap[self.color_reduction.reduction_onepixel(img[i, j, c])]\n",
    "                    hist[cls] += 1\n",
    "        return hist\n",
    "    \n",
    "    def _get_hists(self, images):\n",
    "        # create histograms\n",
    "        hists = np.zeros((len(images), 12))\n",
    "        for i in range(len(images)):\n",
    "            hists[i] = self._get_hist(images[i])\n",
    "        return hists\n",
    "    \n",
    "    def partial_kmeans(self, test_path, th=0.5):\n",
    "        images, names = self._get_images(test_path)\n",
    "        hists = self._get_hists(images)\n",
    "        N = len(images)\n",
    "        classes = np.array([0 if np.random.random() < th else 1 for i in range(N)])\n",
    "        \n",
    "        # 何も属さないようなクラスは存在しないと仮定\n",
    "        gs = np.zeros((self.num_classes, 12), dtype=np.float32)\n",
    "        ns = np.zeros((self.num_classes))\n",
    "        ns[0] = len(classes == 0)\n",
    "        ns[1] = len(classes == 1)\n",
    "        gs[0] = np.sum(hists[classes == 0], axis=0).astype(np.float32) / ns[0]\n",
    "        gs[1] = np.sum(hists[classes == 1], axis=0).astype(np.float32) / ns[1]\n",
    "        print(\"assigned: {}\".format(classes))\n",
    "        print(gs[0])\n",
    "        print(gs[1])\n",
    "        \n",
    "    def problem_88(self, test_path, th=0.5):\n",
    "        self.partial_kmeans(test_path)"
   ]
  },
  {
   "cell_type": "code",
   "execution_count": 27,
   "metadata": {},
   "outputs": [
    {
     "name": "stdout",
     "output_type": "stream",
     "text": [
      "assigned: [0 0 0 1]\n",
      "[2026.5  6074.   2188.5  1999.   2006.   6479.5  2290.   1512.5  1908.25\n",
      " 5751.   2910.   1718.75]\n",
      "[ 852.5  2090.   1123.5    30.    967.25 1909.25  982.25  237.25  918.25\n",
      " 2137.25  985.     55.5 ]\n"
     ]
    }
   ],
   "source": [
    "def parse_func(file_name):\n",
    "    return file_name.split(\"_\")[1]\n",
    "class_list = np.array([\"akahara\", \"madara\"])\n",
    "\n",
    "recog = KmeansImageRecognition(parse_func, class_list)\n",
    "recog.problem_88(\"../dataset/test_*.jpg\", 0.5)"
   ]
  }
 ],
 "metadata": {
  "kernelspec": {
   "display_name": "Python 3",
   "language": "python",
   "name": "python3"
  },
  "language_info": {
   "codemirror_mode": {
    "name": "ipython",
    "version": 3
   },
   "file_extension": ".py",
   "mimetype": "text/x-python",
   "name": "python",
   "nbconvert_exporter": "python",
   "pygments_lexer": "ipython3",
   "version": "3.8.0"
  }
 },
 "nbformat": 4,
 "nbformat_minor": 4
}
