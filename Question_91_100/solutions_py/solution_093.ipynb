{
 "cells": [
  {
   "cell_type": "code",
   "execution_count": 1,
   "metadata": {},
   "outputs": [],
   "source": [
    "import numpy as np"
   ]
  },
  {
   "cell_type": "code",
   "execution_count": 2,
   "metadata": {},
   "outputs": [],
   "source": [
    "# rectangle: [y1, x1, y2, x2] (y1 <= y2, x1 <= x2)\n",
    "def iou(r1, r2):\n",
    "    oy = max(0, min(r1[2], r2[2]) - max(r1[0], r2[0]))\n",
    "    ox = max(0, min(r1[3], r2[3]) - max(r1[1], r2[1]))\n",
    "    \n",
    "    R1 = (r1[2] - r1[0]) * (r1[3] - r1[1])\n",
    "    R2 = (r2[2] - r2[0]) * (r2[3] - r2[1])\n",
    "    Rol = oy * ox\n",
    "    return abs(Rol) / abs(R1 + R2 - Rol)"
   ]
  },
  {
   "cell_type": "code",
   "execution_count": 3,
   "metadata": {},
   "outputs": [],
   "source": [
    "a = np.array((50, 50, 150, 150), dtype=np.float32)\n",
    "b = np.array((60, 60, 170, 160), dtype=np.float32)"
   ]
  },
  {
   "cell_type": "code",
   "execution_count": 4,
   "metadata": {},
   "outputs": [
    {
     "name": "stdout",
     "output_type": "stream",
     "text": [
      "0.627907\n"
     ]
    }
   ],
   "source": [
    "print(iou(a, b))"
   ]
  }
 ],
 "metadata": {
  "kernelspec": {
   "display_name": "Python 3",
   "language": "python",
   "name": "python3"
  },
  "language_info": {
   "codemirror_mode": {
    "name": "ipython",
    "version": 3
   },
   "file_extension": ".py",
   "mimetype": "text/x-python",
   "name": "python",
   "nbconvert_exporter": "python",
   "pygments_lexer": "ipython3",
   "version": "3.8.0"
  }
 },
 "nbformat": 4,
 "nbformat_minor": 4
}
