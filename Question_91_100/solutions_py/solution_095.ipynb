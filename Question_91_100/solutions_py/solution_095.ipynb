{
 "cells": [
  {
   "cell_type": "code",
   "execution_count": 1,
   "metadata": {},
   "outputs": [],
   "source": [
    "import cv2\n",
    "import numpy as np\n",
    "import matplotlib.pyplot as plt\n",
    "%matplotlib inline"
   ]
  },
  {
   "cell_type": "code",
   "execution_count": 2,
   "metadata": {},
   "outputs": [],
   "source": [
    "class Metrics:\n",
    "    # rectangle: [y1, x1, y2, x2] (y1 <= y2, x1 <= x2)\n",
    "    def iou(self, r1, r2):\n",
    "        oy = max(0, min(r1[2], r2[2]) - max(r1[0], r2[0]))\n",
    "        ox = max(0, min(r1[3], r2[3]) - max(r1[1], r2[1]))\n",
    "\n",
    "        R1 = (r1[2] - r1[0]) * (r1[3] - r1[1])\n",
    "        R2 = (r2[2] - r2[0]) * (r2[3] - r2[1])\n",
    "        Rol = oy * ox\n",
    "        return abs(Rol) / abs(R1 + R2 - Rol)"
   ]
  },
  {
   "cell_type": "code",
   "execution_count": 3,
   "metadata": {},
   "outputs": [],
   "source": [
    "class LossFunction:\n",
    "    def sigmoid(self, x):\n",
    "        return 1.0 / (1.0 + np.exp(-x))"
   ]
  },
  {
   "cell_type": "code",
   "execution_count": 4,
   "metadata": {},
   "outputs": [],
   "source": [
    "class MachineLearning:\n",
    "    def __init__(self, seed=0):\n",
    "        self.metrics = Metrics()\n",
    "        np.random.seed(seed)\n",
    "        \n",
    "    def load_image(self, img_path):\n",
    "        self.img = cv2.imread(img_path)\n",
    "        assert len(self.img.shape) == 3, \"invalid image dimension.\"\n",
    "        self.H, self.W, self.C = self.img.shape\n",
    "        \n",
    "    def random_cropping(self, gt, samples=200, hsize=60, wsize=60):\n",
    "        assert 0 < hsize <= self.H, \"hsize value is invalid\"\n",
    "        assert 0 < wsize <= self.W, \"wsize value is invalid\"\n",
    "        \n",
    "        rectangles = np.zeros((samples, 4), dtype=np.float32)\n",
    "        labels = np.zeros((samples), dtype=np.uint8)\n",
    "        for i in range(samples):\n",
    "            w = np.random.randint(self.W - wsize)\n",
    "            h = np.random.randint(self.H - hsize)\n",
    "            rectangles[i] = np.array((h, w, h+hsize, w+wsize))\n",
    "            labels[i] = int(self.metrics.iou(gt, rectangles[i]) >= 0.5) * 2\n",
    "        return rectangles, labels\n",
    "        \n",
    "    def add_rectangles(self, rectangles, labels, gt=None):\n",
    "        output_img = self.img.copy()\n",
    "        colors = [\n",
    "            (255, 0, 0),  # blue : not close\n",
    "            (0, 255, 0),  # green: ground truth\n",
    "            (0, 0, 255,)  # red  : close\n",
    "        ]\n",
    "        for rect, label in zip(rectangles, labels):\n",
    "            y1, x1, y2, x2 = rect.astype(np.int)\n",
    "            c = colors[label]\n",
    "            output_img = cv2.rectangle(output_img, (x1, y1), (x2, y2), c)\n",
    "        if gt is not None:\n",
    "            y1, x1, y2, x2 = gt.astype(np.int)\n",
    "            c = colors[1]\n",
    "            output_img = cv2.rectangle(output_img, (x1, y1), (x2, y2), c)\n",
    "        return output_img"
   ]
  },
  {
   "cell_type": "code",
   "execution_count": 41,
   "metadata": {},
   "outputs": [],
   "source": [
    "class NeuralNetwork:\n",
    "    def __init__(self, idx=2, w1=64, w2=64, out_dim=1, lr=0.1, seed=-1):\n",
    "        if seed >= 0:\n",
    "            np.random.seed(seed)\n",
    "        self.w1 = np.random.normal(0, 1, [idx, w1])\n",
    "        self.b1 = np.random.normal(0, 1, [w1])\n",
    "        self.w2 = np.random.normal(0, 1, [w1, w2])\n",
    "        self.b2 = np.random.normal(0, 1, [w2])\n",
    "        self.wout = np.random.normal(0, 1, [w2, out_dim])\n",
    "        self.bout = np.random.normal(0, 1, [out_dim])\n",
    "        self.lr = lr\n",
    "        self.loss_func = LossFunction()\n",
    "        \n",
    "    def forward(self, x):\n",
    "        self.z1 = x\n",
    "        self.z2 = self.loss_func.sigmoid(np.dot(self.z1, self.w1) + self.b1)\n",
    "        self.z3 = self.loss_func.sigmoid(np.dot(self.z2, self.w2) + self.b2)\n",
    "        self.out = self.loss_func.sigmoid(np.dot(self.z3, self.wout) + self.bout)\n",
    "        return self.out\n",
    "    \n",
    "    def back_propagation(self, x, t):\n",
    "        En = (self.out - t) * self.out * (1 - self.out)\n",
    "        grad_En = En\n",
    "        grad_wout = np.dot(self.z3.T, En)\n",
    "        grad_bout = np.dot(np.ones([En.shape[0]]), En)\n",
    "        self.wout -= self.lr * grad_wout\n",
    "        self.bout -= self.lr * grad_bout\n",
    "        \n",
    "        grad_u2 = np.dot(En, self.wout.T) * self.z3 * (1 - self.z3)\n",
    "        grad_w2 = np.dot(self.z2.T, grad_u2)\n",
    "        grad_b2 = np.dot(np.ones([grad_u2.shape[0]]), grad_u2)\n",
    "        self.w2 -= self.lr * grad_w2\n",
    "        self.b2 -= self.lr * grad_b2\n",
    "        \n",
    "        grad_u1 = np.dot(grad_u2, self.w2.T) * self.z2 * (1 - self.z2)\n",
    "        grad_w1 = np.dot(self.z1.T, grad_u1)\n",
    "        grad_b1 = np.dot(np.ones([grad_u1.shape[0]]), grad_u1)\n",
    "        self.w1 -= self.lr * grad_w1\n",
    "        self.b1 -= self.lr * grad_b1\n",
    "        \n",
    "    def train(self, train_x, train_t, iteration=5000):\n",
    "        for i in range(iteration):\n",
    "            self.forward(train_x)\n",
    "            self.back_propagation(train_x, train_t)"
   ]
  },
  {
   "cell_type": "code",
   "execution_count": 42,
   "metadata": {},
   "outputs": [],
   "source": [
    "class Solver:\n",
    "    def __init__(self, seed=0):\n",
    "        self.ml = MachineLearning()\n",
    "    \n",
    "    def problem_94(self, img_path):\n",
    "        self.ml.load_image(img_path)\n",
    "        gt = np.array([41, 47, 103, 129], dtype=np.float32)\n",
    "        rects, labels = self.ml.random_cropping(gt, samples=200, hsize=60, wsize=60)\n",
    "        output_img = self.ml.add_rectangles(rects, labels, gt)\n",
    "        plt.imshow(cv2.cvtColor(output_img, cv2.COLOR_BGR2RGB))\n",
    "        plt.show()\n",
    "        \n",
    "    def problem_95(self):\n",
    "        train_x = np.array([ [0, 0], [0, 1], [1, 0], [1, 1] ], dtype=np.float32)\n",
    "        train_t = np.array([ [0], [1], [1], [0] ], dtype=np.float32)\n",
    "        nn = NeuralNetwork(idx=train_x.shape[1], seed=0)\n",
    "        nn.train(train_x, train_t, 5000)\n",
    "            \n",
    "        for j in range(4):\n",
    "            x = train_x[j]\n",
    "            t = train_t[j]\n",
    "            print(\"in:\", x, \"pred:\", nn.forward(x))"
   ]
  },
  {
   "cell_type": "code",
   "execution_count": 43,
   "metadata": {},
   "outputs": [
    {
     "name": "stdout",
     "output_type": "stream",
     "text": [
      "in: [0. 0.] pred: [0.02112243]\n",
      "in: [0. 1.] pred: [0.97690913]\n",
      "in: [1. 0.] pred: [0.97987911]\n",
      "in: [1. 1.] pred: [0.02191621]\n"
     ]
    }
   ],
   "source": [
    "solver = Solver()\n",
    "solver.problem_95()"
   ]
  }
 ],
 "metadata": {
  "kernelspec": {
   "display_name": "Python 3",
   "language": "python",
   "name": "python3"
  },
  "language_info": {
   "codemirror_mode": {
    "name": "ipython",
    "version": 3
   },
   "file_extension": ".py",
   "mimetype": "text/x-python",
   "name": "python",
   "nbconvert_exporter": "python",
   "pygments_lexer": "ipython3",
   "version": "3.8.0"
  }
 },
 "nbformat": 4,
 "nbformat_minor": 4
}
