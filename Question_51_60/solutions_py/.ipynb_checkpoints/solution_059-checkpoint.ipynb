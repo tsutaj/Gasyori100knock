{
 "cells": [
  {
   "cell_type": "code",
   "execution_count": 1,
   "metadata": {},
   "outputs": [],
   "source": [
    "import cv2\n",
    "import numpy as np\n",
    "import matplotlib.pyplot as plt\n",
    "%matplotlib inline"
   ]
  },
  {
   "cell_type": "code",
   "execution_count": 2,
   "metadata": {},
   "outputs": [
    {
     "data": {
      "image/png": "[encoded data removed]",
      "text/plain": [
       "<Figure size 432x288 with 1 Axes>"
      ]
     },
     "metadata": {
      "needs_background": "light"
     },
     "output_type": "display_data"
    }
   ],
   "source": [
    "img = cv2.imread(\"../seg.png\")\n",
    "plt.imshow(cv2.cvtColor(img, cv2.COLOR_BGR2RGB))\n",
    "plt.show()"
   ]
  },
  {
   "cell_type": "code",
   "execution_count": 10,
   "metadata": {},
   "outputs": [],
   "source": [
    "def labeling_8(img):\n",
    "    H, W, _ = img.shape\n",
    "    img_pad = np.zeros((H+2, W+2, 3))\n",
    "    for i in range(3):\n",
    "        img_pad[..., i] = np.pad(img[..., i], (1, 1), \"edge\")\n",
    "    ids = np.ones((H+2, W+2)) * np.inf\n",
    "    \n",
    "    LUT = [0 for i in range(H*W)]\n",
    "    last_id = -1\n",
    "    for i in range(1, H+1):\n",
    "        for j in range(1, W+1):\n",
    "            if (img_pad[i, j, :] == np.array([255, 255, 255])).all():\n",
    "                id1 = ids[i-1, j]\n",
    "                id2 = ids[i, j-1]\n",
    "                id3 = ids[i-1, j-1]\n",
    "                id4 = ids[i-1, j+1]\n",
    "                if np.min([id1, id2, id3, id4]) == np.inf:\n",
    "                    ids[i, j] = last_id + 1\n",
    "                    LUT[ last_id + 1 ] = last_id + 1\n",
    "                    last_id += 1\n",
    "                else:\n",
    "                    min_id = np.min([id1, id2, id3, id4]).astype(\"int32\")\n",
    "                    ids[i, j] = min_id\n",
    "                    \n",
    "                    ids_local = [id1, id2, id3, id4]\n",
    "                    for id_local in ids_local:\n",
    "                        if id_local != np.inf:\n",
    "                            id_local = id_local.astype(\"int32\")\n",
    "                            LUT[id_local] = np.min([ LUT[id_local], LUT[min_id] ])\n",
    "    \n",
    "    img_out = np.zeros_like(img)\n",
    "    id_to_color = [\n",
    "        [0, 0, 255],\n",
    "        [0, 255, 0],\n",
    "        [255, 0, 0],\n",
    "        [255, 255, 0]\n",
    "    ]\n",
    "    \n",
    "    new_lut_id = 0\n",
    "    for l in range(last_id+1):\n",
    "        exist = False\n",
    "        for i in range(last_id+1):\n",
    "            if LUT[i] == l:\n",
    "                LUT[i] = new_lut_id\n",
    "                exist = True\n",
    "                \n",
    "        if exist:\n",
    "            new_lut_id += 1\n",
    "    \n",
    "    for i in range(1, H+1):\n",
    "        for j in range(1, W+1):\n",
    "            if ids[i, j] != np.inf:\n",
    "                img_out[i-1, j-1, :] = id_to_color[ LUT[ ids[i, j].astype(\"int32\") ] ]\n",
    "                        \n",
    "    return img_out"
   ]
  },
  {
   "cell_type": "code",
   "execution_count": 11,
   "metadata": {},
   "outputs": [
    {
     "data": {
      "image/png": "[encoded data removed]",
      "text/plain": [
       "<Figure size 432x288 with 1 Axes>"
      ]
     },
     "metadata": {
      "needs_background": "light"
     },
     "output_type": "display_data"
    }
   ],
   "source": [
    "img_labeling = labeling_8(img)\n",
    "plt.imshow(cv2.cvtColor(img_labeling, cv2.COLOR_BGR2RGB))\n",
    "plt.show()"
   ]
  }
 ],
 "metadata": {
  "kernelspec": {
   "display_name": "Python 3",
   "language": "python",
   "name": "python3"
  },
  "language_info": {
   "codemirror_mode": {
    "name": "ipython",
    "version": 3
   },
   "file_extension": ".py",
   "mimetype": "text/x-python",
   "name": "python",
   "nbconvert_exporter": "python",
   "pygments_lexer": "ipython3",
   "version": "3.8.0"
  }
 },
 "nbformat": 4,
 "nbformat_minor": 4
}
