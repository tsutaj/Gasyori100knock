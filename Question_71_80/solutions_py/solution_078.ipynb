{
 "cells": [
  {
   "cell_type": "code",
   "execution_count": 1,
   "metadata": {},
   "outputs": [],
   "source": [
    "import cv2\n",
    "import numpy as np\n",
    "import matplotlib.pyplot as plt\n",
    "%matplotlib inline"
   ]
  },
  {
   "cell_type": "code",
   "execution_count": 2,
   "metadata": {},
   "outputs": [],
   "source": [
    "class GaborFilter:\n",
    "    def gabor_filter(self, K, s, g, l, p, theta):\n",
    "        k = K//2\n",
    "        G = np.zeros((K, K), dtype=np.float32)\n",
    "        rad = theta * np.pi / 180.0\n",
    "        for i in range(K):\n",
    "            for j in range(K):\n",
    "                y, x = i-k, j-k\n",
    "                xx = np.cos(rad)*x + np.sin(rad)*y\n",
    "                yy = -np.sin(rad)*x + np.cos(rad)*y\n",
    "                G[i, j] = np.exp(-(xx**2+(g**2)*(yy**2))/ (2*(s**2))) * np.cos(2*np.pi*xx/l + p)\n",
    "        return G / np.sum(np.abs(G))\n",
    "    \n",
    "    def normalize_val255(self, G):\n",
    "        H = G - np.min(G)\n",
    "        return (H / H.max() * 255).astype(np.uint8)"
   ]
  },
  {
   "cell_type": "code",
   "execution_count": 12,
   "metadata": {},
   "outputs": [],
   "source": [
    "class Solver:\n",
    "    def __init__(self):\n",
    "        self.filter = GaborFilter()\n",
    "        \n",
    "    def problem_77(self):\n",
    "        f = self.filter.gabor_filter(K=111, s=10, g=1.2, l=10, p=0, theta=0)\n",
    "        f = self.filter.normalize_val255(f)\n",
    "        return f\n",
    "    \n",
    "    def problem_78(self):\n",
    "        for i in range(4):\n",
    "            plt.subplot(1, 4, i+1)\n",
    "            f = self.filter.gabor_filter(K=111, s=10, g=1.2, l=10, p=0, theta=45*i)\n",
    "            f = self.filter.normalize_val255(f)\n",
    "            plt.imshow(f, cmap=\"gray\")\n",
    "            plt.title(\"Angle {}\".format(45*i))\n",
    "            ax = plt.gca()\n",
    "            ax.axes.xaxis.set_visible(False)\n",
    "            ax.axes.yaxis.set_visible(False)\n",
    "        plt.plot()"
   ]
  },
  {
   "cell_type": "code",
   "execution_count": 13,
   "metadata": {},
   "outputs": [
    {
     "data": {
      "image/png": "[encoded data removed]",
      "text/plain": [
       "<Figure size 432x288 with 4 Axes>"
      ]
     },
     "metadata": {
      "needs_background": "light"
     },
     "output_type": "display_data"
    }
   ],
   "source": [
    "solver = Solver()\n",
    "solver.problem_78()"
   ]
  }
 ],
 "metadata": {
  "kernelspec": {
   "display_name": "Python 3",
   "language": "python",
   "name": "python3"
  },
  "language_info": {
   "codemirror_mode": {
    "name": "ipython",
    "version": 3
   },
   "file_extension": ".py",
   "mimetype": "text/x-python",
   "name": "python",
   "nbconvert_exporter": "python",
   "pygments_lexer": "ipython3",
   "version": "3.8.0"
  }
 },
 "nbformat": 4,
 "nbformat_minor": 4
}
