{
 "cells": [
  {
   "cell_type": "code",
   "execution_count": 1,
   "metadata": {},
   "outputs": [],
   "source": [
    "import cv2\n",
    "import numpy as np\n",
    "import matplotlib.pyplot as plt\n",
    "%matplotlib inline"
   ]
  },
  {
   "cell_type": "code",
   "execution_count": 15,
   "metadata": {},
   "outputs": [],
   "source": [
    "class GaborFilter:\n",
    "    def gabor_filter(self, K, s, g, l, p, theta):\n",
    "        k = K//2\n",
    "        G = np.zeros((K, K), dtype=np.float32)\n",
    "        rad = theta * np.pi / 180.0\n",
    "        for i in range(K):\n",
    "            for j in range(K):\n",
    "                y, x = i-k, j-k\n",
    "                xx = np.cos(rad)*x + np.sin(rad)*y\n",
    "                yy = -np.sin(rad)*x + np.cos(rad)*y\n",
    "                G[i, j] = np.exp(-(xx**2+(g**2)*(yy**2))/ (2*(s**2))) * np.cos(2*np.pi*xx/l + p)\n",
    "        return G / np.sum(np.abs(G))\n",
    "    \n",
    "    def normalize_val255(self, G):\n",
    "        H = G - np.min(G)\n",
    "        return (H / H.max() * 255).astype(np.uint8)"
   ]
  },
  {
   "cell_type": "code",
   "execution_count": 16,
   "metadata": {},
   "outputs": [],
   "source": [
    "class Solver:\n",
    "    def __init__(self):\n",
    "        self.filter = GaborFilter()\n",
    "        \n",
    "    def problem_77(self):\n",
    "        f = self.filter.gabor_filter(K=111, s=10, g=1.2, l=10, p=0, theta=0)\n",
    "        f = self.filter.normalize_val255(f)\n",
    "        return f"
   ]
  },
  {
   "cell_type": "code",
   "execution_count": 17,
   "metadata": {},
   "outputs": [
    {
     "data": {
      "image/png": "[encoded data removed]",
      "text/plain": [
       "<Figure size 432x288 with 1 Axes>"
      ]
     },
     "metadata": {
      "needs_background": "light"
     },
     "output_type": "display_data"
    }
   ],
   "source": [
    "solver = Solver()\n",
    "output_img = solver.problem_77()\n",
    "plt.imshow(output_img, cmap=\"gray\")\n",
    "plt.show()"
   ]
  }
 ],
 "metadata": {
  "kernelspec": {
   "display_name": "Python 3",
   "language": "python",
   "name": "python3"
  },
  "language_info": {
   "codemirror_mode": {
    "name": "ipython",
    "version": 3
   },
   "file_extension": ".py",
   "mimetype": "text/x-python",
   "name": "python",
   "nbconvert_exporter": "python",
   "pygments_lexer": "ipython3",
   "version": "3.8.0"
  }
 },
 "nbformat": 4,
 "nbformat_minor": 4
}
