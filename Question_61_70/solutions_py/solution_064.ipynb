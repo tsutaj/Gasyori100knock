{
 "cells": [
  {
   "cell_type": "code",
   "execution_count": 5,
   "metadata": {},
   "outputs": [],
   "source": [
    "import cv2\n",
    "import numpy as np\n",
    "import matplotlib.pyplot as plt\n",
    "%matplotlib inline"
   ]
  },
  {
   "cell_type": "code",
   "execution_count": 23,
   "metadata": {},
   "outputs": [],
   "source": [
    "def adjacent_number(img, a):\n",
    "    d = np.zeros((a.shape[0] + 1))\n",
    "    for i in range(9):\n",
    "        d[i] = 1 if abs(a[i]) == 1 else 0\n",
    "    d[9] = 1 if abs(a[1]) == 1 else 0\n",
    "    \n",
    "    s = 0\n",
    "    for k in range(1, 8, 2):\n",
    "        s += (d[k] - d[k] * d[k+1] * d[k+2])\n",
    "    return s"
   ]
  },
  {
   "cell_type": "code",
   "execution_count": 42,
   "metadata": {},
   "outputs": [],
   "source": [
    "def hilditch_thinning(input_img):\n",
    "    dy = [0,  0, -1, -1, -1,  0, +1, +1, +1]\n",
    "    dx = [0, +1, +1,  0, -1, -1, -1,  0, +1]\n",
    "\n",
    "    img = input_img.copy()\n",
    "    H, W = img.shape\n",
    "    neg_count = 1\n",
    "    while neg_count > 0:\n",
    "        neg_count = 0\n",
    "        for iy in range(H):\n",
    "            for ix in range(W):\n",
    "                a = np.zeros((9))\n",
    "                for k in range(9):\n",
    "                    y = iy + dy[k]\n",
    "                    x = ix + dx[k]\n",
    "                    if 0 <= y < H and 0 <= x < W:\n",
    "                        a[k] = img[y][x]\n",
    "\n",
    "                # 図形要素であるか\n",
    "                if not a[0] == 1:\n",
    "                    continue\n",
    "\n",
    "                # 境界点であるか\n",
    "                s = 0\n",
    "                for k in range(1, 8, 2):\n",
    "                    s += (1 - abs(a[k]))\n",
    "                if not s >= 1:\n",
    "                    continue\n",
    "\n",
    "                # 端点を削除しない\n",
    "                s = 0\n",
    "                for k in range(1, 9):\n",
    "                    s += abs(a[k])\n",
    "                if not s >= 2:\n",
    "                    continue\n",
    "\n",
    "                # 孤立点を保存する\n",
    "                s = 0\n",
    "                for k in range(1, 9):\n",
    "                    if a[k] == 1: s += 1\n",
    "                if not s >= 1:\n",
    "                    continue\n",
    "\n",
    "                # 連結性を保存する\n",
    "                if not adjacent_number(img, a) == 1:\n",
    "                    continue\n",
    "\n",
    "                # 線幅 2 の線分の片側のみを削除\n",
    "                s = 0\n",
    "                for k in range(1, 9):\n",
    "                    if a[k] != -1:\n",
    "                        s += 1\n",
    "                    else:\n",
    "                        ak = a[k]\n",
    "                        a[k] = 0\n",
    "                        if adjacent_number(img, a) == 1: s += 1\n",
    "                        a[k] = ak\n",
    "                if not s == 8:\n",
    "                    continue\n",
    "\n",
    "                # 条件を全部満たした\n",
    "                img[iy][ix] = -1\n",
    "                neg_count += 1\n",
    "\n",
    "        if neg_count != 0:\n",
    "            for iy in range(H):\n",
    "                for ix in range(W):\n",
    "                    if img[iy][ix] == -1:\n",
    "                        img[iy][ix] = 0\n",
    "    \n",
    "    return img"
   ]
  },
  {
   "cell_type": "code",
   "execution_count": 51,
   "metadata": {
    "scrolled": true
   },
   "outputs": [
    {
     "data": {
      "image/png": "[encoded data removed]",
      "text/plain": [
       "<Figure size 432x288 with 1 Axes>"
      ]
     },
     "metadata": {
      "needs_background": "light"
     },
     "output_type": "display_data"
    }
   ],
   "source": [
    "#  Gasyori100Knock にある例だとなぜかうまく行かない (多分 reference solution が元のアルゴリズムに忠実でない？)\n",
    "#  代わりに https://github.com/eiichiromomma/CVMLAB/wiki/OpenCV-Thinning にある画像を使用\n",
    "\n",
    "#  binarize\n",
    "img = cv2.cvtColor(cv2.imread(\"../thinning_test.png\"), cv2.COLOR_BGR2GRAY).astype(np.int8)\n",
    "img[img < 0] = 1\n",
    "plt.imshow(img, cmap=\"gray\")\n",
    "plt.show()"
   ]
  },
  {
   "cell_type": "code",
   "execution_count": 52,
   "metadata": {
    "scrolled": false
   },
   "outputs": [
    {
     "data": {
      "image/png": "[encoded data removed]",
      "text/plain": [
       "<Figure size 432x288 with 1 Axes>"
      ]
     },
     "metadata": {
      "needs_background": "light"
     },
     "output_type": "display_data"
    }
   ],
   "source": [
    "output_img = hilditch_thinning(img)\n",
    "plt.imshow(output_img, cmap=\"gray\")\n",
    "plt.show()"
   ]
  }
 ],
 "metadata": {
  "kernelspec": {
   "display_name": "Python 3",
   "language": "python",
   "name": "python3"
  },
  "language_info": {
   "codemirror_mode": {
    "name": "ipython",
    "version": 3
   },
   "file_extension": ".py",
   "mimetype": "text/x-python",
   "name": "python",
   "nbconvert_exporter": "python",
   "pygments_lexer": "ipython3",
   "version": "3.8.0"
  }
 },
 "nbformat": 4,
 "nbformat_minor": 4
}
