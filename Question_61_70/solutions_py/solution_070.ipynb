{
 "cells": [
  {
   "cell_type": "code",
   "execution_count": 1,
   "metadata": {},
   "outputs": [],
   "source": [
    "import cv2\n",
    "import numpy as np\n",
    "import matplotlib.pyplot as plt\n",
    "%matplotlib inline"
   ]
  },
  {
   "cell_type": "code",
   "execution_count": 35,
   "metadata": {},
   "outputs": [],
   "source": [
    "class ColorTracking:\n",
    "    def rgb_to_hsv(self, r, g, b):\n",
    "        ma, mi = max(r, g, b), min(r, g, b)\n",
    "        h, s, v = 0, ma - mi, ma\n",
    "        if mi == b:\n",
    "            h = 60 * (g-r) / (ma-mi) + 60\n",
    "        elif mi == r:\n",
    "            h = 60 * (b-g) / (ma-mi) + 180\n",
    "        elif mi == g:\n",
    "            h = 60 * (r-b) / (ma-mi) + 300\n",
    "        return [h, s, v]\n",
    "    \n",
    "    def rgb_to_hsv_image(self, img):\n",
    "        H, W, _ = img.shape\n",
    "        input_img = img.copy().astype(np.float32) / 255.0\n",
    "        output_img = np.zeros_like(input_img).astype(np.float32)\n",
    "        for y in range(H):\n",
    "            for x in range(W):\n",
    "                output_img[y, x, :] = self.rgb_to_hsv(*input_img[y, x, :])\n",
    "        return output_img\n",
    "    \n",
    "    def hsv_to_rgb(self, h, s, v):\n",
    "        c, h_p = s, h/60\n",
    "        x = c * (1 - abs(h_p % 2 - 1))\n",
    "        vec = [[c, x, 0], [x, c, 0], [0, c, x], [0, x, c], [x, 0, c], [c, 0, x]]\n",
    "\n",
    "        r, g, b = v-c, v-c, v-c\n",
    "        if 0 <= h_p < 6:\n",
    "            h_p = int(h_p)\n",
    "            r += vec[h_p][0]\n",
    "            g += vec[h_p][1]\n",
    "            b += vec[h_p][2]\n",
    "        return [r, g, b]\n",
    "    \n",
    "    def hsv_to_rgb_image(self, img):\n",
    "        H, W, _ = input_img.shape\n",
    "        input_img = img.copy().astype(np.float32) / 255.0\n",
    "        output_img = np.zeros_like(input_img).astype(np.float32)\n",
    "        for y in range(H):\n",
    "            for x in range(W):\n",
    "                output_img[y, x, :] = self.hsv_to_rgb(*input_img[y, x, :])\n",
    "        return output_img\n",
    "    \n",
    "    def tracking_for_problem_70(self, img):\n",
    "        input_img = cv2.cvtColor(img, cv2.COLOR_BGR2RGB)\n",
    "        H, W, _ = input_img.shape\n",
    "        img_hsv = self.rgb_to_hsv_image(input_img)\n",
    "        output_img = np.zeros((H, W))\n",
    "        for y in range(H):\n",
    "            for x in range(W):\n",
    "                if 180 < img_hsv[y, x, 0] < 260:\n",
    "                    output_img[y, x] = 255\n",
    "        return output_img"
   ]
  },
  {
   "cell_type": "code",
   "execution_count": 33,
   "metadata": {},
   "outputs": [],
   "source": [
    "class Solver:\n",
    "    def __init__(self):\n",
    "        self.converter = ColorTracking()\n",
    "        \n",
    "    def problem_70(self, input_img):\n",
    "        output_img = self.converter.tracking_for_problem_70(input_img)\n",
    "        plt.imshow(output_img, cmap=\"gray\")\n",
    "        plt.show()"
   ]
  },
  {
   "cell_type": "code",
   "execution_count": 36,
   "metadata": {},
   "outputs": [
    {
     "data": {
      "image/png": "[encoded data removed]",
      "text/plain": [
       "<Figure size 432x288 with 1 Axes>"
      ]
     },
     "metadata": {
      "needs_background": "light"
     },
     "output_type": "display_data"
    }
   ],
   "source": [
    "input_img = cv2.imread(\"../imori.jpg\")\n",
    "solver = Solver()\n",
    "solver.problem_70(input_img)"
   ]
  }
 ],
 "metadata": {
  "kernelspec": {
   "display_name": "Python 3",
   "language": "python",
   "name": "python3"
  },
  "language_info": {
   "codemirror_mode": {
    "name": "ipython",
    "version": 3
   },
   "file_extension": ".py",
   "mimetype": "text/x-python",
   "name": "python",
   "nbconvert_exporter": "python",
   "pygments_lexer": "ipython3",
   "version": "3.8.0"
  }
 },
 "nbformat": 4,
 "nbformat_minor": 4
}
