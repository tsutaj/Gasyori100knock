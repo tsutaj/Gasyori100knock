{
 "cells": [
  {
   "cell_type": "code",
   "execution_count": 1,
   "metadata": {},
   "outputs": [],
   "source": [
    "import cv2\n",
    "import numpy as np\n",
    "import matplotlib.pyplot as plt\n",
    "%matplotlib inline"
   ]
  },
  {
   "cell_type": "code",
   "execution_count": 34,
   "metadata": {},
   "outputs": [],
   "source": [
    "class HOGFeatureValue:        \n",
    "    def quantize(self, value):\n",
    "        res = np.floor(value / 20)\n",
    "        if res >= 9: res = 8\n",
    "        return res\n",
    "    \n",
    "    # reference solution は差分計算でオーバーフローをおこしていそう\n",
    "    def calc_gx_gy(self, img):\n",
    "        input_img = img.copy().astype(np.int32)\n",
    "        H, W = input_img.shape\n",
    "        gx = np.zeros_like(input_img).astype(np.int32)\n",
    "        gy = np.zeros_like(input_img).astype(np.int32)\n",
    "        for y in range(H):\n",
    "            for x in range(W):\n",
    "                gx[y, x] = input_img[y, min(x+1, W-1)] - input_img[y, max(x-1, 0)]\n",
    "                gy[y, x] = input_img[min(y+1, H-1), x] - input_img[max(y-1, 0), x]\n",
    "        return gx, gy\n",
    "    \n",
    "    def calc_mag_ang(self, gx, gy):\n",
    "        H, W = gx.shape\n",
    "        mag = np.zeros_like(gx, dtype=np.float32)\n",
    "        ang = np.zeros_like(gy, dtype=np.float32)\n",
    "        for y in range(H):\n",
    "            for x in range(W):\n",
    "                mag[y, x] = np.sqrt(gx[y, x]**2 + gy[y, x]**2)\n",
    "                ang[y, x] = np.arctan2(gy[y, x], gx[y, x])\n",
    "                if ang[y, x] < 0: ang[y, x] += np.pi\n",
    "                ang[y, x] = self.quantize(ang[y, x] / np.pi * 180.0)\n",
    "        ang = ang.astype(np.uint8)\n",
    "        return mag, ang\n",
    "                \n",
    "    def get_colorized_ang(self, ang):\n",
    "        color = [\n",
    "            [255, 0, 0],\n",
    "            [0, 255, 0],\n",
    "            [0, 0, 255],\n",
    "            [255, 255, 0],\n",
    "            [255, 0, 255],\n",
    "            [0, 255, 255],\n",
    "            [127, 127, 0],\n",
    "            [127, 0, 127],\n",
    "            [0, 127, 127],\n",
    "        ]\n",
    "        H, W = ang.shape\n",
    "        colorized_ang = np.zeros((H, W, 3), dtype=np.uint8)\n",
    "        for i in range(9):\n",
    "            colorized_ang[ang == i] = color[i]\n",
    "        return colorized_ang\n",
    "    \n",
    "    # reference solution で x, y に掛ける数が 4 なのはおそらく間違い\n",
    "    def gradient_histogram(self, mag, ang, N):\n",
    "        H, W = mag.shape\n",
    "        cell_H, cell_W = H // N, W // N\n",
    "        histogram = np.zeros((cell_H, cell_W, 9), dtype=np.float32)\n",
    "        \n",
    "        for y in range(cell_H):\n",
    "            for x in range(cell_W):\n",
    "                for j in range(N):\n",
    "                    for i in range(N):\n",
    "                        histogram[y, x, ang[y*N+j, x*N+i]] += mag[y*N+j, x*N+i]\n",
    "        return histogram"
   ]
  },
  {
   "cell_type": "code",
   "execution_count": 32,
   "metadata": {},
   "outputs": [],
   "source": [
    "class Solver:\n",
    "    def __init__(self):\n",
    "        self.hog = HOGFeatureValue()\n",
    "    \n",
    "    def problem_66(self, input_img):\n",
    "        input_img_gray = cv2.cvtColor(input_img, cv2.COLOR_BGR2GRAY).astype(np.int8)\n",
    "        gx, gy = self.hog.calc_gx_gy(input_img_gray)\n",
    "        mag, ang = self.hog.calc_mag_ang(gx, gy)\n",
    "        plt.subplot(1, 2, 1)\n",
    "        plt.imshow(mag, cmap=\"gray\")\n",
    "        plt.subplot(1, 2, 2)\n",
    "        plt.imshow(cv2.cvtColor(self.hog.get_colorized_ang(ang), cv2.COLOR_BGR2RGB))\n",
    "        plt.show()\n",
    "        \n",
    "    def problem_67(self, input_img):\n",
    "        input_img_gray = cv2.cvtColor(input_img, cv2.COLOR_BGR2GRAY).astype(np.int8)\n",
    "        gx, gy = self.hog.calc_gx_gy(input_img_gray)\n",
    "        mag, ang = self.hog.calc_mag_ang(gx, gy)\n",
    "        histogram = self.hog.gradient_histogram(mag, ang, 8)\n",
    "        for i in range(9):\n",
    "            plt.subplot(3, 3, i+1)\n",
    "            plt.imshow(histogram[..., i])\n",
    "        plt.show()"
   ]
  },
  {
   "cell_type": "code",
   "execution_count": 33,
   "metadata": {},
   "outputs": [
    {
     "data": {
      "image/png": "[encoded data removed]",
      "text/plain": [
       "<Figure size 432x288 with 9 Axes>"
      ]
     },
     "metadata": {
      "needs_background": "light"
     },
     "output_type": "display_data"
    }
   ],
   "source": [
    "img = cv2.imread(\"../imori.jpg\")\n",
    "solver = Solver()\n",
    "solver.problem_67(img)"
   ]
  }
 ],
 "metadata": {
  "kernelspec": {
   "display_name": "Python 3",
   "language": "python",
   "name": "python3"
  },
  "language_info": {
   "codemirror_mode": {
    "name": "ipython",
    "version": 3
   },
   "file_extension": ".py",
   "mimetype": "text/x-python",
   "name": "python",
   "nbconvert_exporter": "python",
   "pygments_lexer": "ipython3",
   "version": "3.8.0"
  }
 },
 "nbformat": 4,
 "nbformat_minor": 4
}
