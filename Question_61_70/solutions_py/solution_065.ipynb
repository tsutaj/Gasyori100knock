{
 "cells": [
  {
   "cell_type": "code",
   "execution_count": 1,
   "metadata": {},
   "outputs": [],
   "source": [
    "import cv2\n",
    "import numpy as np\n",
    "import matplotlib.pyplot as plt\n",
    "%matplotlib inline"
   ]
  },
  {
   "cell_type": "code",
   "execution_count": 25,
   "metadata": {},
   "outputs": [],
   "source": [
    "def zhang_thinning(img):\n",
    "    dy = [0, 0, -1, -1,  0, +1, +1, +1,  0, -1]\n",
    "    dx = [0, 0,  0, +1, +1, +1,  0, -1, -1, -1]\n",
    "    indices = [\n",
    "        [ [2, 4, 6], [4, 6, 8] ],\n",
    "        [ [2, 4, 8], [2, 6, 8] ],\n",
    "    ]\n",
    "    \n",
    "    H, W = img.shape\n",
    "    output_img = 1 - img.copy()\n",
    "    step = []\n",
    "    changed = 1\n",
    "    while changed > 0:\n",
    "        changed = 0\n",
    "        for z in range(2):\n",
    "            for iy in range(H):\n",
    "                for ix in range(W):\n",
    "                    # 黒画素である\n",
    "                    if output_img[iy][ix] != 0:\n",
    "                        continue\n",
    "\n",
    "                    # 時計回りに見て 0 -> 1 に変わる回数がちょうど 1\n",
    "                    s = 0\n",
    "                    for k in range(8):\n",
    "                        i1 = k + 2\n",
    "                        v1 = 0\n",
    "                        y = iy + dy[i1]\n",
    "                        x = ix + dx[i1]\n",
    "                        if 0 <= y < H and 0 <= x < W:\n",
    "                            v1 = output_img[y, x]\n",
    "\n",
    "                        i2 = (k + 1) % 8 + 2\n",
    "                        v2 = 0\n",
    "                        y = iy + dy[i2]\n",
    "                        x = ix + dx[i2]\n",
    "                        if 0 <= y < H and 0 <= x < W:\n",
    "                            v2 = output_img[y, x]\n",
    "                        s += (v1 == 0 and v2 == 1)\n",
    "                    if not s == 1:\n",
    "                        continue\n",
    "\n",
    "                    # 1 の個数が 2 以上 6 以下\n",
    "                    s = 0\n",
    "                    for k in range(2, 10):\n",
    "                        y = iy + dy[k]\n",
    "                        x = ix + dx[k]\n",
    "                        v = 0\n",
    "                        if 0 <= y < H and 0 <= x < W:\n",
    "                            v = output_img[y, x]\n",
    "                        s += v \n",
    "                    if not (2 <= s <= 6):\n",
    "                        continue\n",
    "\n",
    "                    # どれかが 1\n",
    "                    s = 0\n",
    "                    for k in indices[z][0]:\n",
    "                        y = iy + dy[k]\n",
    "                        x = ix + dx[k]\n",
    "                        v = 0\n",
    "                        if 0 <= y < H and 0 <= x < W:\n",
    "                            v = output_img[y, x]\n",
    "                        s += v\n",
    "                    if not s >= 1:\n",
    "                        continue\n",
    "\n",
    "                    # どれかが 1\n",
    "                    s = 0\n",
    "                    for k in indices[z][1]:\n",
    "                        y = iy + dy[k]\n",
    "                        x = ix + dx[k]\n",
    "                        v = 0\n",
    "                        if 0 <= y < H and 0 <= x < W:\n",
    "                            v = output_img[y, x]\n",
    "                        s += v\n",
    "                    if not s >= 1:\n",
    "                        continue\n",
    "\n",
    "                    # 条件をすべて満たした\n",
    "                    step.append((iy, ix))\n",
    "            changed += len(step)\n",
    "            for y, x in step:\n",
    "                output_img[y, x] = 1\n",
    "            step = []\n",
    "        print(\"changed:\", changed)\n",
    "\n",
    "    output_img = 1 - output_img\n",
    "    return output_img"
   ]
  },
  {
   "cell_type": "code",
   "execution_count": 17,
   "metadata": {
    "scrolled": true
   },
   "outputs": [
    {
     "data": {
      "image/png": "[encoded data removed]",
      "text/plain": [
       "<Figure size 432x288 with 1 Axes>"
      ]
     },
     "metadata": {
      "needs_background": "light"
     },
     "output_type": "display_data"
    }
   ],
   "source": [
    "#  Gasyori100Knock にある例だとなぜかうまく行かない (多分 reference solution が元のアルゴリズムに忠実でない？)\n",
    "#  代わりに https://github.com/eiichiromomma/CVMLAB/wiki/OpenCV-Thinning にある画像を使用\n",
    "\n",
    "#  binarize\n",
    "img = cv2.cvtColor(cv2.imread(\"../gazo.png\"), cv2.COLOR_BGR2GRAY).astype(np.int8)\n",
    "img[img < 0] = 1\n",
    "plt.imshow(img, cmap=\"gray\")\n",
    "plt.show()"
   ]
  },
  {
   "cell_type": "code",
   "execution_count": 26,
   "metadata": {},
   "outputs": [
    {
     "name": "stdout",
     "output_type": "stream",
     "text": [
      "changed: 791\n",
      "changed: 137\n",
      "changed: 72\n",
      "changed: 43\n",
      "changed: 2\n",
      "changed: 2\n",
      "changed: 2\n",
      "changed: 2\n",
      "changed: 2\n",
      "changed: 2\n",
      "changed: 1\n",
      "changed: 0\n"
     ]
    },
    {
     "data": {
      "image/png": "[encoded data removed]",
      "text/plain": [
       "<Figure size 432x288 with 1 Axes>"
      ]
     },
     "metadata": {
      "needs_background": "light"
     },
     "output_type": "display_data"
    }
   ],
   "source": [
    "output_img = zhang_thinning(img)\n",
    "plt.imshow(output_img, cmap=\"gray\")\n",
    "plt.show()"
   ]
  }
 ],
 "metadata": {
  "kernelspec": {
   "display_name": "Python 3",
   "language": "python",
   "name": "python3"
  },
  "language_info": {
   "codemirror_mode": {
    "name": "ipython",
    "version": 3
   },
   "file_extension": ".py",
   "mimetype": "text/x-python",
   "name": "python",
   "nbconvert_exporter": "python",
   "pygments_lexer": "ipython3",
   "version": "3.8.0"
  }
 },
 "nbformat": 4,
 "nbformat_minor": 4
}
