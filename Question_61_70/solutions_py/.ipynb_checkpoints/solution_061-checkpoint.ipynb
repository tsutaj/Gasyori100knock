{
 "cells": [
  {
   "cell_type": "code",
   "execution_count": 1,
   "metadata": {},
   "outputs": [],
   "source": [
    "import cv2\n",
    "import numpy as np\n",
    "import matplotlib.pyplot as plt\n",
    "%matplotlib inline"
   ]
  },
  {
   "cell_type": "code",
   "execution_count": 46,
   "metadata": {
    "scrolled": false
   },
   "outputs": [
    {
     "data": {
      "image/png": "[encoded data removed]",
      "text/plain": [
       "<Figure size 432x288 with 1 Axes>"
      ]
     },
     "metadata": {
      "needs_background": "light"
     },
     "output_type": "display_data"
    }
   ],
   "source": [
    "# binarize\n",
    "img = cv2.cvtColor(cv2.imread(\"../renketsu.png\"), cv2.COLOR_BGR2GRAY).astype(np.int8)\n",
    "img[img < 0] = 1\n",
    "plt.imshow(img, cmap=\"gray\")\n",
    "plt.show()"
   ]
  },
  {
   "cell_type": "code",
   "execution_count": 47,
   "metadata": {},
   "outputs": [],
   "source": [
    "def adjacent_number(img, y, x):\n",
    "    H, W = img.shape\n",
    "    h = [\n",
    "        img[y, x], img[y, min(x+1, W-1)], img[max(0, y-1), min(x+1, W-1)],\n",
    "        img[max(y-1, 0), x], img[max(y-1, 0), max(x-1, 0)], img[y, max(x-1, 0)],\n",
    "        img[min(y+1, H-1), max(x-1, 0)], img[min(y+1, H-1), x], img[min(y+1, H-1), min(x+1, W-1)]\n",
    "    ]\n",
    "    return (h[1]-h[1]*h[2]*h[3]) + (h[3]-h[3]*h[4]*h[5]) + (h[5]-h[5]*h[6]*h[7]) + (h[7]-h[7]*h[8]*h[1])"
   ]
  },
  {
   "cell_type": "code",
   "execution_count": 48,
   "metadata": {},
   "outputs": [],
   "source": [
    "H, W = img.shape\n",
    "cmap = [\n",
    "    [0, 0, 255],\n",
    "    [0, 255, 0],\n",
    "    [255, 0, 0],\n",
    "    [255, 255, 0],\n",
    "    [255, 0, 255]\n",
    "]\n",
    "\n",
    "output_img = np.zeros((H, W, 3), dtype=np.uint8)\n",
    "for i in range(H):\n",
    "    for j in range(W):\n",
    "        if img[i, j] != 0:\n",
    "            output_img[i, j] = cmap[ adjacent_number_4(img, i, j) ]"
   ]
  },
  {
   "cell_type": "code",
   "execution_count": 49,
   "metadata": {
    "scrolled": false
   },
   "outputs": [
    {
     "data": {
      "image/png": "[encoded data removed]",
      "text/plain": [
       "<Figure size 432x288 with 1 Axes>"
      ]
     },
     "metadata": {
      "needs_background": "light"
     },
     "output_type": "display_data"
    }
   ],
   "source": [
    "plt.imshow(cv2.cvtColor(output_img, cv2.COLOR_BGR2RGB))\n",
    "plt.show()"
   ]
  },
  {
   "cell_type": "code",
   "execution_count": null,
   "metadata": {},
   "outputs": [],
   "source": []
  }
 ],
 "metadata": {
  "kernelspec": {
   "display_name": "Python 3",
   "language": "python",
   "name": "python3"
  },
  "language_info": {
   "codemirror_mode": {
    "name": "ipython",
    "version": 3
   },
   "file_extension": ".py",
   "mimetype": "text/x-python",
   "name": "python",
   "nbconvert_exporter": "python",
   "pygments_lexer": "ipython3",
   "version": "3.8.0"
  }
 },
 "nbformat": 4,
 "nbformat_minor": 4
}
