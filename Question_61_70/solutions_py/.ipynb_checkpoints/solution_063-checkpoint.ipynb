{
 "cells": [
  {
   "cell_type": "code",
   "execution_count": 1,
   "metadata": {},
   "outputs": [],
   "source": [
    "import cv2\n",
    "import numpy as np\n",
    "import matplotlib.pyplot as plt\n",
    "%matplotlib inline"
   ]
  },
  {
   "cell_type": "code",
   "execution_count": 39,
   "metadata": {},
   "outputs": [
    {
     "data": {
      "image/png": "[encoded data removed]",
      "text/plain": [
       "<Figure size 432x288 with 1 Axes>"
      ]
     },
     "metadata": {
      "needs_background": "light"
     },
     "output_type": "display_data"
    }
   ],
   "source": [
    "# binarize\n",
    "img = cv2.cvtColor(cv2.imread(\"../gazo.png\"), cv2.COLOR_BGR2GRAY).astype(np.int8)\n",
    "img[img < 0] = 1\n",
    "plt.imshow(img, cmap=\"gray\")\n",
    "plt.show()"
   ]
  },
  {
   "cell_type": "code",
   "execution_count": 14,
   "metadata": {},
   "outputs": [],
   "source": [
    "def adjacent_number(img, y, x):\n",
    "    H, W = img.shape\n",
    "    h = [\n",
    "        img[y, x], img[y, min(x+1, W-1)], img[max(0, y-1), min(x+1, W-1)],\n",
    "        img[max(y-1, 0), x], img[max(y-1, 0), max(x-1, 0)], img[y, max(x-1, 0)],\n",
    "        img[min(y+1, H-1), max(x-1, 0)], img[min(y+1, H-1), x], img[min(y+1, H-1), min(x+1, W-1)]\n",
    "    ]\n",
    "    return (h[1]-h[1]*h[2]*h[3]) + (h[3]-h[3]*h[4]*h[5]) + (h[5]-h[5]*h[6]*h[7]) + (h[7]-h[7]*h[8]*h[1])"
   ]
  },
  {
   "cell_type": "code",
   "execution_count": 18,
   "metadata": {},
   "outputs": [],
   "source": [
    "def thinning(img, y, x):\n",
    "    dy, dx = [0, 0, -1, 1, 1, 1, -1, -1], [1, -1, 0, 0, 1, -1, 1, -1]\n",
    "    H, W = img.shape\n",
    "    result = 0\n",
    "    if img[y, x] != 0:\n",
    "        found_zero = False\n",
    "        for k in range(4):\n",
    "            ny = min(H-1, max(0, y + dy[k]))\n",
    "            nx = min(W-1, max(0, x + dx[k]))\n",
    "            found_zero |= (img[ny, nx] == 0)\n",
    "        \n",
    "        adj = adjacent_number(img, y, x)\n",
    "        \n",
    "        cnt = 0\n",
    "        for k in range(8):\n",
    "            ny = min(H-1, max(0, y + dy[k]))\n",
    "            nx = min(W-1, max(0, x + dx[k]))\n",
    "            cnt += (img[ny, nx] == 1)\n",
    "        \n",
    "        result = (found_zero and adj == 1 and cnt >= 3)\n",
    "    return result"
   ]
  },
  {
   "cell_type": "code",
   "execution_count": 42,
   "metadata": {},
   "outputs": [],
   "source": [
    "H, W = img.shape\n",
    "output_img = np.zeros((H, W), dtype=np.uint8)\n",
    "while True:\n",
    "    cnt = 0\n",
    "    for i in range(H):\n",
    "        for j in range(W):\n",
    "            output_img[i, j] = thinning(img, i, j)\n",
    "            cnt += (img[i, j] != output_img[i, j])\n",
    "    if cnt > 0:\n",
    "        img, output_img = output_img, img\n",
    "    else:\n",
    "        break"
   ]
  },
  {
   "cell_type": "code",
   "execution_count": 41,
   "metadata": {},
   "outputs": [
    {
     "data": {
      "image/png": "[encoded data removed]",
      "text/plain": [
       "<Figure size 432x288 with 1 Axes>"
      ]
     },
     "metadata": {
      "needs_background": "light"
     },
     "output_type": "display_data"
    }
   ],
   "source": [
    "plt.imshow(output_img, cmap=\"gray\")\n",
    "plt.show()"
   ]
  }
 ],
 "metadata": {
  "kernelspec": {
   "display_name": "Python 3",
   "language": "python",
   "name": "python3"
  },
  "language_info": {
   "codemirror_mode": {
    "name": "ipython",
    "version": 3
   },
   "file_extension": ".py",
   "mimetype": "text/x-python",
   "name": "python",
   "nbconvert_exporter": "python",
   "pygments_lexer": "ipython3",
   "version": "3.8.0"
  }
 },
 "nbformat": 4,
 "nbformat_minor": 4
}
